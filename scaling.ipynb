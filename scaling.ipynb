{
 "cells": [
  {
   "cell_type": "code",
   "execution_count": 56,
   "metadata": {},
   "outputs": [],
   "source": [
    "import numpy as np\n",
    "import pandas as pd\n",
    "import matplotlib.pyplot as plt\n",
    "import seaborn as sns\n",
    "\n",
    "from sklearn.model_selection import train_test_split\n",
    "import sklearn.preprocessing\n",
    "import acquire\n",
    "import wrangle"
   ]
  },
  {
   "cell_type": "code",
   "execution_count": 57,
   "metadata": {},
   "outputs": [],
   "source": [
    "df = acquire.get_telco_data()"
   ]
  },
  {
   "cell_type": "code",
   "execution_count": 58,
   "metadata": {},
   "outputs": [],
   "source": [
    "df = wrangle.wrangle_telco(df)"
   ]
  },
  {
   "cell_type": "code",
   "execution_count": 59,
   "metadata": {},
   "outputs": [
    {
     "data": {
      "text/html": [
       "<div>\n",
       "<style scoped>\n",
       "    .dataframe tbody tr th:only-of-type {\n",
       "        vertical-align: middle;\n",
       "    }\n",
       "\n",
       "    .dataframe tbody tr th {\n",
       "        vertical-align: top;\n",
       "    }\n",
       "\n",
       "    .dataframe thead th {\n",
       "        text-align: right;\n",
       "    }\n",
       "</style>\n",
       "<table border=\"1\" class=\"dataframe\">\n",
       "  <thead>\n",
       "    <tr style=\"text-align: right;\">\n",
       "      <th></th>\n",
       "      <th>customer_id</th>\n",
       "      <th>monthly_charges</th>\n",
       "      <th>tenure</th>\n",
       "      <th>total_charges</th>\n",
       "    </tr>\n",
       "  </thead>\n",
       "  <tbody>\n",
       "    <tr>\n",
       "      <th>1793</th>\n",
       "      <td>0016-QLJIS</td>\n",
       "      <td>90.45</td>\n",
       "      <td>65</td>\n",
       "      <td>5957.90</td>\n",
       "    </tr>\n",
       "    <tr>\n",
       "      <th>1794</th>\n",
       "      <td>0017-DINOC</td>\n",
       "      <td>45.20</td>\n",
       "      <td>54</td>\n",
       "      <td>2460.55</td>\n",
       "    </tr>\n",
       "    <tr>\n",
       "      <th>1795</th>\n",
       "      <td>0019-GFNTW</td>\n",
       "      <td>45.05</td>\n",
       "      <td>56</td>\n",
       "      <td>2560.10</td>\n",
       "    </tr>\n",
       "    <tr>\n",
       "      <th>1796</th>\n",
       "      <td>0056-EPFBG</td>\n",
       "      <td>39.40</td>\n",
       "      <td>20</td>\n",
       "      <td>825.40</td>\n",
       "    </tr>\n",
       "    <tr>\n",
       "      <th>1797</th>\n",
       "      <td>0078-XZMHT</td>\n",
       "      <td>85.15</td>\n",
       "      <td>72</td>\n",
       "      <td>6316.20</td>\n",
       "    </tr>\n",
       "    <tr>\n",
       "      <th>...</th>\n",
       "      <td>...</td>\n",
       "      <td>...</td>\n",
       "      <td>...</td>\n",
       "      <td>...</td>\n",
       "    </tr>\n",
       "    <tr>\n",
       "      <th>7038</th>\n",
       "      <td>9950-MTGYX</td>\n",
       "      <td>20.30</td>\n",
       "      <td>28</td>\n",
       "      <td>487.95</td>\n",
       "    </tr>\n",
       "    <tr>\n",
       "      <th>7039</th>\n",
       "      <td>9953-ZMKSM</td>\n",
       "      <td>25.25</td>\n",
       "      <td>63</td>\n",
       "      <td>1559.30</td>\n",
       "    </tr>\n",
       "    <tr>\n",
       "      <th>7040</th>\n",
       "      <td>9964-WBQDJ</td>\n",
       "      <td>24.40</td>\n",
       "      <td>71</td>\n",
       "      <td>1725.40</td>\n",
       "    </tr>\n",
       "    <tr>\n",
       "      <th>7041</th>\n",
       "      <td>9972-EWRJS</td>\n",
       "      <td>19.25</td>\n",
       "      <td>67</td>\n",
       "      <td>1372.90</td>\n",
       "    </tr>\n",
       "    <tr>\n",
       "      <th>7042</th>\n",
       "      <td>9975-GPKZU</td>\n",
       "      <td>19.75</td>\n",
       "      <td>46</td>\n",
       "      <td>856.50</td>\n",
       "    </tr>\n",
       "  </tbody>\n",
       "</table>\n",
       "<p>1685 rows × 4 columns</p>\n",
       "</div>"
      ],
      "text/plain": [
       "     customer_id  monthly_charges  tenure  total_charges\n",
       "1793  0016-QLJIS            90.45      65        5957.90\n",
       "1794  0017-DINOC            45.20      54        2460.55\n",
       "1795  0019-GFNTW            45.05      56        2560.10\n",
       "1796  0056-EPFBG            39.40      20         825.40\n",
       "1797  0078-XZMHT            85.15      72        6316.20\n",
       "...          ...              ...     ...            ...\n",
       "7038  9950-MTGYX            20.30      28         487.95\n",
       "7039  9953-ZMKSM            25.25      63        1559.30\n",
       "7040  9964-WBQDJ            24.40      71        1725.40\n",
       "7041  9972-EWRJS            19.25      67        1372.90\n",
       "7042  9975-GPKZU            19.75      46         856.50\n",
       "\n",
       "[1685 rows x 4 columns]"
      ]
     },
     "execution_count": 59,
     "metadata": {},
     "output_type": "execute_result"
    }
   ],
   "source": [
    "df"
   ]
  },
  {
   "cell_type": "code",
   "execution_count": 60,
   "metadata": {},
   "outputs": [
    {
     "data": {
      "text/plain": [
       "((1217, 4), (215, 4), (253, 4))"
      ]
     },
     "execution_count": 60,
     "metadata": {},
     "output_type": "execute_result"
    }
   ],
   "source": [
    "# splitting our data set to train, test, and validate\n",
    "\n",
    "train_validate, test = train_test_split(df, test_size = .15, random_state = 123)\n",
    "train, validate = train_test_split(train_validate, test_size = .15, random_state = 123)\n",
    "train.shape, validate.shape, test.shape"
   ]
  },
  {
   "cell_type": "code",
   "execution_count": 61,
   "metadata": {},
   "outputs": [
    {
     "data": {
      "text/plain": [
       "count    1217.000000\n",
       "mean     3701.473870\n",
       "std      2567.221506\n",
       "min        20.350000\n",
       "25%      1275.600000\n",
       "50%      3533.600000\n",
       "75%      5986.450000\n",
       "max      8672.450000\n",
       "Name: total_charges, dtype: float64"
      ]
     },
     "execution_count": 61,
     "metadata": {},
     "output_type": "execute_result"
    }
   ],
   "source": [
    "train.total_charges.describe()\n",
    "\n",
    "# we can see that the total charges varies a lot, so we must scale it inorder for it to have a proportionate impact \n",
    "# in our model"
   ]
  },
  {
   "cell_type": "code",
   "execution_count": 62,
   "metadata": {},
   "outputs": [],
   "source": [
    "                           "
   ]
  },
  {
   "cell_type": "code",
   "execution_count": 63,
   "metadata": {},
   "outputs": [],
   "source": [
    "# cols_to_scale = ['monthly_charges', 'tenure', 'total_charges']\n",
    "# train, test, validate = scale_data(train, test, validate, scaler = sklearn.preprocessing.MinMaxScaler(), cols_to_scale = cols_to_scale)"
   ]
  },
  {
   "cell_type": "code",
   "execution_count": 64,
   "metadata": {},
   "outputs": [
    {
     "data": {
      "text/html": [
       "<div>\n",
       "<style scoped>\n",
       "    .dataframe tbody tr th:only-of-type {\n",
       "        vertical-align: middle;\n",
       "    }\n",
       "\n",
       "    .dataframe tbody tr th {\n",
       "        vertical-align: top;\n",
       "    }\n",
       "\n",
       "    .dataframe thead th {\n",
       "        text-align: right;\n",
       "    }\n",
       "</style>\n",
       "<table border=\"1\" class=\"dataframe\">\n",
       "  <thead>\n",
       "    <tr style=\"text-align: right;\">\n",
       "      <th></th>\n",
       "      <th>customer_id</th>\n",
       "      <th>monthly_charges</th>\n",
       "      <th>tenure</th>\n",
       "      <th>total_charges</th>\n",
       "    </tr>\n",
       "  </thead>\n",
       "  <tbody>\n",
       "    <tr>\n",
       "      <th>5510</th>\n",
       "      <td>9861-PDSZP</td>\n",
       "      <td>108.05</td>\n",
       "      <td>72</td>\n",
       "      <td>7806.60</td>\n",
       "    </tr>\n",
       "    <tr>\n",
       "      <th>5431</th>\n",
       "      <td>8041-TMEID</td>\n",
       "      <td>108.50</td>\n",
       "      <td>63</td>\n",
       "      <td>6991.90</td>\n",
       "    </tr>\n",
       "    <tr>\n",
       "      <th>2383</th>\n",
       "      <td>9443-JUBUO</td>\n",
       "      <td>65.25</td>\n",
       "      <td>72</td>\n",
       "      <td>4478.85</td>\n",
       "    </tr>\n",
       "    <tr>\n",
       "      <th>2381</th>\n",
       "      <td>9415-ZNBSX</td>\n",
       "      <td>89.00</td>\n",
       "      <td>70</td>\n",
       "      <td>6293.20</td>\n",
       "    </tr>\n",
       "    <tr>\n",
       "      <th>6670</th>\n",
       "      <td>3976-HXHCE</td>\n",
       "      <td>19.30</td>\n",
       "      <td>72</td>\n",
       "      <td>1414.80</td>\n",
       "    </tr>\n",
       "    <tr>\n",
       "      <th>...</th>\n",
       "      <td>...</td>\n",
       "      <td>...</td>\n",
       "      <td>...</td>\n",
       "      <td>...</td>\n",
       "    </tr>\n",
       "    <tr>\n",
       "      <th>6566</th>\n",
       "      <td>2481-SBOYW</td>\n",
       "      <td>25.00</td>\n",
       "      <td>61</td>\n",
       "      <td>1498.35</td>\n",
       "    </tr>\n",
       "    <tr>\n",
       "      <th>2148</th>\n",
       "      <td>5915-ANOEI</td>\n",
       "      <td>79.15</td>\n",
       "      <td>70</td>\n",
       "      <td>5536.50</td>\n",
       "    </tr>\n",
       "    <tr>\n",
       "      <th>6433</th>\n",
       "      <td>0505-SPOOW</td>\n",
       "      <td>19.80</td>\n",
       "      <td>70</td>\n",
       "      <td>1397.65</td>\n",
       "    </tr>\n",
       "    <tr>\n",
       "      <th>2406</th>\n",
       "      <td>9795-NREXC</td>\n",
       "      <td>85.00</td>\n",
       "      <td>64</td>\n",
       "      <td>5484.40</td>\n",
       "    </tr>\n",
       "    <tr>\n",
       "      <th>2008</th>\n",
       "      <td>3704-IEAXF</td>\n",
       "      <td>53.65</td>\n",
       "      <td>72</td>\n",
       "      <td>3784.00</td>\n",
       "    </tr>\n",
       "  </tbody>\n",
       "</table>\n",
       "<p>1217 rows × 4 columns</p>\n",
       "</div>"
      ],
      "text/plain": [
       "     customer_id  monthly_charges  tenure  total_charges\n",
       "5510  9861-PDSZP           108.05      72        7806.60\n",
       "5431  8041-TMEID           108.50      63        6991.90\n",
       "2383  9443-JUBUO            65.25      72        4478.85\n",
       "2381  9415-ZNBSX            89.00      70        6293.20\n",
       "6670  3976-HXHCE            19.30      72        1414.80\n",
       "...          ...              ...     ...            ...\n",
       "6566  2481-SBOYW            25.00      61        1498.35\n",
       "2148  5915-ANOEI            79.15      70        5536.50\n",
       "6433  0505-SPOOW            19.80      70        1397.65\n",
       "2406  9795-NREXC            85.00      64        5484.40\n",
       "2008  3704-IEAXF            53.65      72        3784.00\n",
       "\n",
       "[1217 rows x 4 columns]"
      ]
     },
     "execution_count": 64,
     "metadata": {},
     "output_type": "execute_result"
    }
   ],
   "source": [
    "train"
   ]
  },
  {
   "cell_type": "code",
   "execution_count": 67,
   "metadata": {},
   "outputs": [],
   "source": [
    "scaler = sklearn.preprocessing.MinMaxScaler()\n",
    "\n",
    "\n",
    "scaler.fit(train[['monthly_charges']])\n",
    "\n",
    "\n",
    "train = pd.concat([train, pd.DataFrame(scaler.transform(train[['monthly_charges']]),index = train.index,  columns = ['scaled_monthly_charges'])], axis = 1)\n",
    "\n",
    "\n",
    "# df['reverse'] = scaler.inverse_transform(df[['scaled_monthly_charges']])\n"
   ]
  },
  {
   "cell_type": "code",
   "execution_count": 68,
   "metadata": {},
   "outputs": [
    {
     "data": {
      "text/html": [
       "<div>\n",
       "<style scoped>\n",
       "    .dataframe tbody tr th:only-of-type {\n",
       "        vertical-align: middle;\n",
       "    }\n",
       "\n",
       "    .dataframe tbody tr th {\n",
       "        vertical-align: top;\n",
       "    }\n",
       "\n",
       "    .dataframe thead th {\n",
       "        text-align: right;\n",
       "    }\n",
       "</style>\n",
       "<table border=\"1\" class=\"dataframe\">\n",
       "  <thead>\n",
       "    <tr style=\"text-align: right;\">\n",
       "      <th></th>\n",
       "      <th>customer_id</th>\n",
       "      <th>monthly_charges</th>\n",
       "      <th>tenure</th>\n",
       "      <th>total_charges</th>\n",
       "      <th>scaled_monthly_charges</th>\n",
       "    </tr>\n",
       "  </thead>\n",
       "  <tbody>\n",
       "    <tr>\n",
       "      <th>5510</th>\n",
       "      <td>9861-PDSZP</td>\n",
       "      <td>108.05</td>\n",
       "      <td>72</td>\n",
       "      <td>7806.60</td>\n",
       "      <td>0.893373</td>\n",
       "    </tr>\n",
       "    <tr>\n",
       "      <th>5431</th>\n",
       "      <td>8041-TMEID</td>\n",
       "      <td>108.50</td>\n",
       "      <td>63</td>\n",
       "      <td>6991.90</td>\n",
       "      <td>0.897857</td>\n",
       "    </tr>\n",
       "    <tr>\n",
       "      <th>2383</th>\n",
       "      <td>9443-JUBUO</td>\n",
       "      <td>65.25</td>\n",
       "      <td>72</td>\n",
       "      <td>4478.85</td>\n",
       "      <td>0.466866</td>\n",
       "    </tr>\n",
       "    <tr>\n",
       "      <th>2381</th>\n",
       "      <td>9415-ZNBSX</td>\n",
       "      <td>89.00</td>\n",
       "      <td>70</td>\n",
       "      <td>6293.20</td>\n",
       "      <td>0.703538</td>\n",
       "    </tr>\n",
       "    <tr>\n",
       "      <th>6670</th>\n",
       "      <td>3976-HXHCE</td>\n",
       "      <td>19.30</td>\n",
       "      <td>72</td>\n",
       "      <td>1414.80</td>\n",
       "      <td>0.008969</td>\n",
       "    </tr>\n",
       "    <tr>\n",
       "      <th>...</th>\n",
       "      <td>...</td>\n",
       "      <td>...</td>\n",
       "      <td>...</td>\n",
       "      <td>...</td>\n",
       "      <td>...</td>\n",
       "    </tr>\n",
       "    <tr>\n",
       "      <th>6566</th>\n",
       "      <td>2481-SBOYW</td>\n",
       "      <td>25.00</td>\n",
       "      <td>61</td>\n",
       "      <td>1498.35</td>\n",
       "      <td>0.065770</td>\n",
       "    </tr>\n",
       "    <tr>\n",
       "      <th>2148</th>\n",
       "      <td>5915-ANOEI</td>\n",
       "      <td>79.15</td>\n",
       "      <td>70</td>\n",
       "      <td>5536.50</td>\n",
       "      <td>0.605381</td>\n",
       "    </tr>\n",
       "    <tr>\n",
       "      <th>6433</th>\n",
       "      <td>0505-SPOOW</td>\n",
       "      <td>19.80</td>\n",
       "      <td>70</td>\n",
       "      <td>1397.65</td>\n",
       "      <td>0.013951</td>\n",
       "    </tr>\n",
       "    <tr>\n",
       "      <th>2406</th>\n",
       "      <td>9795-NREXC</td>\n",
       "      <td>85.00</td>\n",
       "      <td>64</td>\n",
       "      <td>5484.40</td>\n",
       "      <td>0.663677</td>\n",
       "    </tr>\n",
       "    <tr>\n",
       "      <th>2008</th>\n",
       "      <td>3704-IEAXF</td>\n",
       "      <td>53.65</td>\n",
       "      <td>72</td>\n",
       "      <td>3784.00</td>\n",
       "      <td>0.351271</td>\n",
       "    </tr>\n",
       "  </tbody>\n",
       "</table>\n",
       "<p>1217 rows × 5 columns</p>\n",
       "</div>"
      ],
      "text/plain": [
       "     customer_id  monthly_charges  tenure  total_charges  \\\n",
       "5510  9861-PDSZP           108.05      72        7806.60   \n",
       "5431  8041-TMEID           108.50      63        6991.90   \n",
       "2383  9443-JUBUO            65.25      72        4478.85   \n",
       "2381  9415-ZNBSX            89.00      70        6293.20   \n",
       "6670  3976-HXHCE            19.30      72        1414.80   \n",
       "...          ...              ...     ...            ...   \n",
       "6566  2481-SBOYW            25.00      61        1498.35   \n",
       "2148  5915-ANOEI            79.15      70        5536.50   \n",
       "6433  0505-SPOOW            19.80      70        1397.65   \n",
       "2406  9795-NREXC            85.00      64        5484.40   \n",
       "2008  3704-IEAXF            53.65      72        3784.00   \n",
       "\n",
       "      scaled_monthly_charges  \n",
       "5510                0.893373  \n",
       "5431                0.897857  \n",
       "2383                0.466866  \n",
       "2381                0.703538  \n",
       "6670                0.008969  \n",
       "...                      ...  \n",
       "6566                0.065770  \n",
       "2148                0.605381  \n",
       "6433                0.013951  \n",
       "2406                0.663677  \n",
       "2008                0.351271  \n",
       "\n",
       "[1217 rows x 5 columns]"
      ]
     },
     "execution_count": 68,
     "metadata": {},
     "output_type": "execute_result"
    }
   ],
   "source": [
    "train"
   ]
  },
  {
   "cell_type": "code",
   "execution_count": 70,
   "metadata": {},
   "outputs": [],
   "source": [
    "train = pd.concat([train, pd.DataFrame(scaler.inverse_transform(train[['scaled_monthly_charges']]), \n",
    "             index = train.index,  columns = ['reverse'])], axis = 1)"
   ]
  },
  {
   "cell_type": "code",
   "execution_count": 77,
   "metadata": {},
   "outputs": [
    {
     "data": {
      "text/plain": [
       "(149, 6)"
      ]
     },
     "execution_count": 77,
     "metadata": {},
     "output_type": "execute_result"
    }
   ],
   "source": [
    "train[train.reverse != train.monthly_charges].shape"
   ]
  },
  {
   "cell_type": "code",
   "execution_count": 78,
   "metadata": {},
   "outputs": [
    {
     "data": {
      "text/plain": [
       "customer_id                object\n",
       "monthly_charges           float64\n",
       "tenure                      int64\n",
       "total_charges             float64\n",
       "scaled_monthly_charges    float64\n",
       "reverse                   float64\n",
       "dtype: object"
      ]
     },
     "execution_count": 78,
     "metadata": {},
     "output_type": "execute_result"
    }
   ],
   "source": [
    "train.dtypes"
   ]
  },
  {
   "cell_type": "code",
   "execution_count": 85,
   "metadata": {},
   "outputs": [
    {
     "data": {
      "image/png": "[encoded data removed]",
      "text/plain": [
       "<Figure size 432x288 with 1 Axes>"
      ]
     },
     "metadata": {
      "needs_background": "light"
     },
     "output_type": "display_data"
    },
    {
     "data": {
      "image/png": "[encoded data removed]",
      "text/plain": [
       "<Figure size 432x288 with 1 Axes>"
      ]
     },
     "metadata": {
      "needs_background": "light"
     },
     "output_type": "display_data"
    },
    {
     "data": {
      "image/png": "[encoded data removed]",
      "text/plain": [
       "<Figure size 432x288 with 1 Axes>"
      ]
     },
     "metadata": {
      "needs_background": "light"
     },
     "output_type": "display_data"
    }
   ],
   "source": [
    "## visualizing the original, scaled, and reversed data\n",
    "\n",
    "for col in ['monthly_charges', 'scaled_monthly_charges', 'reverse']:\n",
    "    plt.hist(train[col])\n",
    "    plt.title(col)\n",
    "    plt.show()"
   ]
  },
  {
   "cell_type": "code",
   "execution_count": 92,
   "metadata": {},
   "outputs": [],
   "source": [
    "## Read the documentation for sklearn's QuantileTransformer. Use normal for the output_distribution and apply \n",
    "#this scaler to your data. Visualize the result of your data scaling.\n",
    "\n",
    "\n",
    "scaler = sklearn.preprocessing.QuantileTransformer(output_distribution = 'normal')\n",
    "\n",
    "\n",
    "scaler = scaler.fit(train[['total_charges']])\n",
    "\n",
    "\n",
    "train = pd.concat([train, pd.DataFrame(scaler.transform(train[['total_charges']]), index = train.index,\n",
    "             columns = ['quantile_scaled_total_charges'])], axis = 1)"
   ]
  },
  {
   "cell_type": "code",
   "execution_count": 95,
   "metadata": {},
   "outputs": [
    {
     "data": {
      "text/plain": [
       "<AxesSubplot:ylabel='Frequency'>"
      ]
     },
     "execution_count": 95,
     "metadata": {},
     "output_type": "execute_result"
    },
    {
     "data": {
      "image/png": "[encoded data removed]",
      "text/plain": [
       "<Figure size 432x288 with 1 Axes>"
      ]
     },
     "metadata": {
      "needs_background": "light"
     },
     "output_type": "display_data"
    }
   ],
   "source": [
    "train.quantile_scaled_total_charges.plot.hist()"
   ]
  },
  {
   "cell_type": "code",
   "execution_count": 99,
   "metadata": {},
   "outputs": [
    {
     "data": {
      "text/plain": [
       "<AxesSubplot:ylabel='Frequency'>"
      ]
     },
     "execution_count": 99,
     "metadata": {},
     "output_type": "execute_result"
    },
    {
     "data": {
      "image/png": "[encoded data removed]",
      "text/plain": [
       "<Figure size 432x288 with 1 Axes>"
      ]
     },
     "metadata": {
      "needs_background": "light"
     },
     "output_type": "display_data"
    }
   ],
   "source": [
    "# the default output distribution for QuantileTransformer is uniform distribution\n",
    "\n",
    "scaler = sklearn.preprocessing.QuantileTransformer()\n",
    "\n",
    "\n",
    "scaler = scaler.fit(train[['total_charges']])\n",
    "\n",
    "\n",
    "pd.DataFrame(scaler.transform(train[['total_charges']])).plot.hist()"
   ]
  },
  {
   "cell_type": "code",
   "execution_count": 101,
   "metadata": {},
   "outputs": [],
   "source": [
    "#create a function that scales our data using the MinMaxScaler\n",
    "\n",
    "def scale_data(train, test, validate, scaler, cols_to_scale):\n",
    "    '''Intakes train, test, validate dataset, scaling methond, and the list of columns to scale\n",
    "    and returns train, test, validate dataset with scaled data added to new columns'''\n",
    "\n",
    "    \n",
    "    new_cols = [col + \"_scaled\" for col in cols_to_scale]\n",
    "    \n",
    "    \n",
    "    scaler = scaler.fit(train[cols_to_scale])\n",
    "    \n",
    "    train = pd.concat([train, pd.DataFrame(scaler.transform(train[cols_to_scale]), \n",
    "                                           index = train.index, columns = new_cols)], axis = 1)\n",
    "    \n",
    "    \n",
    "    test =  pd.concat([test, pd.DataFrame(scaler.transform(test[cols_to_scale]), \n",
    "                                           index = test.index, columns = new_cols)], axis = 1)\n",
    "    \n",
    "    \n",
    "    validate =  pd.concat([validate, pd.DataFrame(scaler.transform(validate[cols_to_scale]), \n",
    "                                           index = validate.index, columns = new_cols)], axis = 1)\n",
    "                                        \n",
    "                      \n",
    "    return train, test, validate          "
   ]
  },
  {
   "cell_type": "code",
   "execution_count": null,
   "metadata": {},
   "outputs": [],
   "source": []
  }
 ],
 "metadata": {
  "kernelspec": {
   "display_name": "Python 3",
   "language": "python",
   "name": "python3"
  },
  "language_info": {
   "codemirror_mode": {
    "name": "ipython",
    "version": 3
   },
   "file_extension": ".py",
   "mimetype": "text/x-python",
   "name": "python",
   "nbconvert_exporter": "python",
   "pygments_lexer": "ipython3",
   "version": "3.7.6"
  }
 },
 "nbformat": 4,
 "nbformat_minor": 4
}

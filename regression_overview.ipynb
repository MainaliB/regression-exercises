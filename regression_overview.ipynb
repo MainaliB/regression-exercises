{
 "cells": [
  {
   "cell_type": "markdown",
   "metadata": {},
   "source": [
    "# Regression"
   ]
  },
  {
   "cell_type": "markdown",
   "metadata": {},
   "source": [
    "### - part of a supervised machine learning\n",
    "### - predictive analysis algorith to predict continuous target "
   ]
  },
  {
   "cell_type": "markdown",
   "metadata": {},
   "source": [
    "## Goals:\n",
    "    - Acquire\n",
    "    - Summarize, Histogram, Boxplot\n",
    "    - Prepare(fillna, get dummies, cut, drop, split, scale, impute)\n",
    "    - Explore(hypothesis test, vizualize,draw conclusion)\n",
    "    - Model building, Evaluate"
   ]
  },
  {
   "cell_type": "markdown",
   "metadata": {},
   "source": [
    "## Regression Types\n",
    "- Univariate\n",
    "    -  Simple ( has single feature )\n",
    "    -  Multiple( has many features )\n",
    "- Multivariate\n",
    "    - Simple = is basically predicting two Y's\n",
    "    - Multiple = multiple X's to predict multiple Y's\n",
    "    "
   ]
  },
  {
   "cell_type": "markdown",
   "metadata": {},
   "source": []
  }
 ],
 "metadata": {
  "kernelspec": {
   "display_name": "Python 3",
   "language": "python",
   "name": "python3"
  },
  "language_info": {
   "codemirror_mode": {
    "name": "ipython",
    "version": 3
   },
   "file_extension": ".py",
   "mimetype": "text/x-python",
   "name": "python",
   "nbconvert_exporter": "python",
   "pygments_lexer": "ipython3",
   "version": "3.7.6"
  }
 },
 "nbformat": 4,
 "nbformat_minor": 4
}
